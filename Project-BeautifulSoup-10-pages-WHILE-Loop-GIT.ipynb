{
 "cells": [
  {
   "cell_type": "code",
   "execution_count": 1,
   "metadata": {},
   "outputs": [],
   "source": [
    "from bs4 import BeautifulSoup\n",
    "import requests\n",
    "import pandas as pd\n",
    "import time\n",
    "from selenium.webdriver.support.select import Select\n",
    "#from selenium.webdriver.support.ui import select\n",
    "from selenium import webdriver\n",
    "from selenium.webdriver.chrome.service import Service\n",
    "from selenium.webdriver.common.by import By\n",
    "from selenium.webdriver.chrome.options import Options\n",
    "from random import randint\n",
    "import urllib.parse\n",
    "import warnings\n",
    "warnings.filterwarnings('ignore')\n",
    "headers = {\"Accept-Language\" : \"en-US,en;q=0.5\"}\n",
    "import ssl\n",
    "ssl._create_default_https_context = ssl._create_unverified_context\n",
    "from selenium.common.exceptions import NoSuchElementException, ElementNotVisibleException\n",
    "from selenium.webdriver.support.ui import WebDriverWait\n",
    "from selenium.webdriver.support import expected_conditions as EC\n",
    "import time"
   ]
  },
  {
   "cell_type": "code",
   "execution_count": 2,
   "metadata": {},
   "outputs": [],
   "source": [
    "import requests\n",
    "from bs4 import BeautifulSoup"
   ]
  },
  {
   "cell_type": "code",
   "execution_count": 3,
   "metadata": {},
   "outputs": [],
   "source": [
    "page = requests.get('https://www.carpages.ca/used-cars/search/?num_results=50&fueltype_id%5b0%5d=3&fueltype_id%5b1%5d=7&p=3')"
   ]
  },
  {
   "cell_type": "code",
   "execution_count": 4,
   "metadata": {},
   "outputs": [],
   "source": [
    "soup = BeautifulSoup(page.text , 'lxml')"
   ]
  },
  {
   "cell_type": "code",
   "execution_count": 6,
   "metadata": {},
   "outputs": [],
   "source": [
    "#Get the html associated with each posting\n",
    "postings = soup.find_all('div' , {'class' : 'media soft push-none rule'})"
   ]
  },
  {
   "cell_type": "code",
   "execution_count": 7,
   "metadata": {},
   "outputs": [
    {
     "data": {
      "text/plain": [
       "49"
      ]
     },
     "execution_count": 7,
     "metadata": {},
     "output_type": "execute_result"
    }
   ],
   "source": [
    "len(postings)"
   ]
  },
  {
   "cell_type": "code",
   "execution_count": 34,
   "metadata": {},
   "outputs": [],
   "source": [
    "#Initiate DataFrame\n",
    "df = pd.DataFrame({'Link':[''], 'Name':[''], 'Price':[''], 'Color':['']})\n",
    "\n",
    "#Only scrape first 10 pages\n",
    "\n",
    "#Initiate the counter ,meaning: counter starts from 0 here\n",
    "counter = 0\n",
    "while counter < 10:\n",
    "    #Get the html associated with each posting\n",
    "    postings = soup.find_all('div' , {'class' : 'media soft push-none rule'})\n",
    "    #For loop to go through each posting\n",
    "    for post in postings:\n",
    "        link = post.find('a', {'class' : 'media__img media__img--thumb'}).get('href')\n",
    "        link_full = 'https://www.carpages.ca' + link\n",
    "        name = post.find('h4' , {'class' : 'hN'}).text.strip()\n",
    "        price = post.find('strong' , {'class' : 'delta'}).text.strip()\n",
    "        color = post.find_all('div' , {'class': 'grey l-column l-column--small-6 l-column--medium-4'})[1].text.strip()\n",
    "        df = df.append({'Link': link_full, 'Name': name , 'Price': price, 'Color': color} , ignore_index = True)\n",
    "\n",
    "    next_page = soup.find('a' , {'class' : 'nextprev'}).get('href')\n",
    "    next_page_full = 'https://www.carpages.ca' + next_page\n",
    "    page = requests.get(next_page_full)\n",
    "    soup = BeautifulSoup(page.text , 'lxml')\n",
    "    counter += 1"
   ]
  },
  {
   "cell_type": "code",
   "execution_count": 35,
   "metadata": {},
   "outputs": [
    {
     "data": {
      "text/plain": [
       "(491, 4)"
      ]
     },
     "execution_count": 35,
     "metadata": {},
     "output_type": "execute_result"
    }
   ],
   "source": [
    "df.shape"
   ]
  },
  {
   "cell_type": "code",
   "execution_count": 36,
   "metadata": {},
   "outputs": [
    {
     "data": {
      "text/html": [
       "<div>\n",
       "<style scoped>\n",
       "    .dataframe tbody tr th:only-of-type {\n",
       "        vertical-align: middle;\n",
       "    }\n",
       "\n",
       "    .dataframe tbody tr th {\n",
       "        vertical-align: top;\n",
       "    }\n",
       "\n",
       "    .dataframe thead th {\n",
       "        text-align: right;\n",
       "    }\n",
       "</style>\n",
       "<table border=\"1\" class=\"dataframe\">\n",
       "  <thead>\n",
       "    <tr style=\"text-align: right;\">\n",
       "      <th></th>\n",
       "      <th>Link</th>\n",
       "      <th>Name</th>\n",
       "      <th>Price</th>\n",
       "      <th>Color</th>\n",
       "    </tr>\n",
       "  </thead>\n",
       "  <tbody>\n",
       "    <tr>\n",
       "      <th>0</th>\n",
       "      <td></td>\n",
       "      <td></td>\n",
       "      <td></td>\n",
       "      <td></td>\n",
       "    </tr>\n",
       "    <tr>\n",
       "      <th>1</th>\n",
       "      <td>https://www.carpages.ca/new-cars/manitoba/winn...</td>\n",
       "      <td>2023 Honda CR-V</td>\n",
       "      <td>$52,310</td>\n",
       "      <td>Black</td>\n",
       "    </tr>\n",
       "    <tr>\n",
       "      <th>2</th>\n",
       "      <td>https://www.carpages.ca/new-cars/manitoba/winn...</td>\n",
       "      <td>2023 Honda CR-V</td>\n",
       "      <td>$52,310</td>\n",
       "      <td>Meteoroid Gray Metallic</td>\n",
       "    </tr>\n",
       "    <tr>\n",
       "      <th>3</th>\n",
       "      <td>https://www.carpages.ca/new-cars/manitoba/winn...</td>\n",
       "      <td>2023 Honda CR-V</td>\n",
       "      <td>$52,310</td>\n",
       "      <td>Urban Grey</td>\n",
       "    </tr>\n",
       "    <tr>\n",
       "      <th>4</th>\n",
       "      <td>https://www.carpages.ca/new-cars/manitoba/winn...</td>\n",
       "      <td>2023 Honda CR-V</td>\n",
       "      <td>$52,310</td>\n",
       "      <td>White</td>\n",
       "    </tr>\n",
       "    <tr>\n",
       "      <th>5</th>\n",
       "      <td>https://www.carpages.ca/used-cars/british-colu...</td>\n",
       "      <td>2013 Chevrolet Silverado 1500</td>\n",
       "      <td>$22,995</td>\n",
       "      <td>Blue</td>\n",
       "    </tr>\n",
       "    <tr>\n",
       "      <th>6</th>\n",
       "      <td>https://www.carpages.ca/used-cars/ontario/bram...</td>\n",
       "      <td>2021 Toyota Venza</td>\n",
       "      <td>$50,900</td>\n",
       "      <td>Blue</td>\n",
       "    </tr>\n",
       "    <tr>\n",
       "      <th>7</th>\n",
       "      <td>https://www.carpages.ca/used-cars/ontario/burl...</td>\n",
       "      <td>2018 Chevrolet Volt</td>\n",
       "      <td>$26,998</td>\n",
       "      <td>White</td>\n",
       "    </tr>\n",
       "    <tr>\n",
       "      <th>8</th>\n",
       "      <td>https://www.carpages.ca/used-cars/ontario/oakv...</td>\n",
       "      <td>2022 Tesla Model S</td>\n",
       "      <td>$144,400</td>\n",
       "      <td>White</td>\n",
       "    </tr>\n",
       "    <tr>\n",
       "      <th>9</th>\n",
       "      <td>https://www.carpages.ca/used-cars/ontario/scar...</td>\n",
       "      <td>2020 Hyundai IONIQ</td>\n",
       "      <td>$38,990</td>\n",
       "      <td>Black</td>\n",
       "    </tr>\n",
       "  </tbody>\n",
       "</table>\n",
       "</div>"
      ],
      "text/plain": [
       "                                                Link  \\\n",
       "0                                                      \n",
       "1  https://www.carpages.ca/new-cars/manitoba/winn...   \n",
       "2  https://www.carpages.ca/new-cars/manitoba/winn...   \n",
       "3  https://www.carpages.ca/new-cars/manitoba/winn...   \n",
       "4  https://www.carpages.ca/new-cars/manitoba/winn...   \n",
       "5  https://www.carpages.ca/used-cars/british-colu...   \n",
       "6  https://www.carpages.ca/used-cars/ontario/bram...   \n",
       "7  https://www.carpages.ca/used-cars/ontario/burl...   \n",
       "8  https://www.carpages.ca/used-cars/ontario/oakv...   \n",
       "9  https://www.carpages.ca/used-cars/ontario/scar...   \n",
       "\n",
       "                            Name     Price                    Color  \n",
       "0                                                                    \n",
       "1                2023 Honda CR-V   $52,310                    Black  \n",
       "2                2023 Honda CR-V   $52,310  Meteoroid Gray Metallic  \n",
       "3                2023 Honda CR-V   $52,310               Urban Grey  \n",
       "4                2023 Honda CR-V   $52,310                    White  \n",
       "5  2013 Chevrolet Silverado 1500   $22,995                     Blue  \n",
       "6              2021 Toyota Venza   $50,900                     Blue  \n",
       "7            2018 Chevrolet Volt   $26,998                    White  \n",
       "8             2022 Tesla Model S  $144,400                    White  \n",
       "9             2020 Hyundai IONIQ   $38,990                    Black  "
      ]
     },
     "execution_count": 36,
     "metadata": {},
     "output_type": "execute_result"
    }
   ],
   "source": [
    "df.head(10)"
   ]
  },
  {
   "cell_type": "markdown",
   "metadata": {},
   "source": [
    "#### Aisha Khalid"
   ]
  }
 ],
 "metadata": {
  "kernelspec": {
   "display_name": "Python 3",
   "language": "python",
   "name": "python3"
  },
  "language_info": {
   "codemirror_mode": {
    "name": "ipython",
    "version": 3
   },
   "file_extension": ".py",
   "mimetype": "text/x-python",
   "name": "python",
   "nbconvert_exporter": "python",
   "pygments_lexer": "ipython3",
   "version": "3.8.3"
  }
 },
 "nbformat": 4,
 "nbformat_minor": 4
}
